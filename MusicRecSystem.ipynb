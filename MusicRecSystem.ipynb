{
 "cells": [
  {
   "cell_type": "code",
   "execution_count": 1,
   "id": "98d7f3dd-6736-4813-ae02-12d31c62cf4f",
   "metadata": {},
   "outputs": [
    {
     "name": "stdout",
     "output_type": "stream",
     "text": [
      "Requirement already satisfied: spotipy in /opt/anaconda3/lib/python3.12/site-packages (2.24.0)\n",
      "Requirement already satisfied: redis>=3.5.3 in /opt/anaconda3/lib/python3.12/site-packages (from spotipy) (5.1.1)\n",
      "Requirement already satisfied: requests>=2.25.0 in /opt/anaconda3/lib/python3.12/site-packages (from spotipy) (2.32.2)\n",
      "Requirement already satisfied: urllib3>=1.26.0 in /opt/anaconda3/lib/python3.12/site-packages (from spotipy) (2.2.2)\n",
      "Requirement already satisfied: charset-normalizer<4,>=2 in /opt/anaconda3/lib/python3.12/site-packages (from requests>=2.25.0->spotipy) (2.0.4)\n",
      "Requirement already satisfied: idna<4,>=2.5 in /opt/anaconda3/lib/python3.12/site-packages (from requests>=2.25.0->spotipy) (3.7)\n",
      "Requirement already satisfied: certifi>=2017.4.17 in /opt/anaconda3/lib/python3.12/site-packages (from requests>=2.25.0->spotipy) (2024.7.4)\n"
     ]
    }
   ],
   "source": [
    "!pip install spotipy\n"
   ]
  },
  {
   "cell_type": "code",
   "execution_count": 2,
   "id": "e642b76f-0c25-46a6-bfcb-9b8f1f7e278b",
   "metadata": {},
   "outputs": [],
   "source": [
    "import spotipy\n",
    "from spotipy.oauth2 import SpotifyOAuth\n",
    "\n",
    "client_id = '93de42b7d1f64d0ca924f047a3454285'\n",
    "client_secret = 'ebfa30d9b898452d8bea8733e119735d'\n",
    "redirect_uri = 'http://localhost:8889/callback'\n",
    "\n",
    "sp = spotipy.Spotify(auth_manager=SpotifyOAuth(client_id = client_id,\n",
    "                                               client_secret = client_secret,\n",
    "                                               redirect_uri = redirect_uri,\n",
    "                                               scope = \"user-library-read user-top-read\"))"
   ]
  },
  {
   "cell_type": "code",
   "execution_count": 5,
   "id": "16ce0776-9b68-4df1-affa-cf878393c347",
   "metadata": {},
   "outputs": [
    {
     "name": "stdout",
     "output_type": "stream",
     "text": [
      "1: Tere Bina by Shreea Kaul\n",
      "2: Coachella - Woodstock In My Mind by Lana Del Rey\n",
      "3: When The World Was At War We Kept Dancing by Lana Del Rey\n",
      "4: Tomorrow Never Came (feat. Sean Ono Lennon) by Lana Del Rey\n",
      "5: Sakal Ban by Sanjay Leela Bhansali\n",
      "6: Around Me (feat. Don Toliver) by Metro Boomin\n",
      "7: She's A 10 But... by ARTAN\n",
      "8: How Many by Freddie Dredd\n",
      "9: Ultraviolence by Lana Del Rey\n",
      "10: Carnival of the Animals: X. Aviary by Camille Saint-Saëns\n"
     ]
    }
   ],
   "source": [
    "# Get top tracks\n",
    "results = sp.current_user_top_tracks(limit=10)\n",
    "for idx, item in enumerate(results['items']):\n",
    "    print(f\"{idx+1}: {item['name']} by {item['artists'][0]['name']}\")"
   ]
  },
  {
   "cell_type": "code",
   "execution_count": 9,
   "id": "f91f0547-d9a3-42d3-ad03-53fea81cf4c3",
   "metadata": {},
   "outputs": [
    {
     "name": "stdout",
     "output_type": "stream",
     "text": [
      "Average Audio Features of Top Tracks:\n",
      "Energy: 0.55717\n",
      "Danceability: 0.5379\n",
      "Tempo: 122.8161\n",
      "Valence: 0.47409\n",
      "Acousticness: 0.34670999999999996\n",
      "\n",
      "Recommended Tracks:\n",
      "Dealer by Lana Del Rey\n",
      "Tera Nasha by The Bilz & Kashif\n",
      "Call Me by My Name by Asbjørn\n",
      "Lust by Shreea Kaul\n",
      "this is me trying by Taylor Swift\n",
      "Mythological Beauty by Big Thief\n",
      "No. 1 Party Anthem by Arctic Monkeys\n",
      "Ever Since New York by Harry Styles\n",
      "Chaandaniya (From \"2 States\") by Mohan Kannan\n",
      "Phool Gendwa Na Maaro by Sanjay Leela Bhansali\n"
     ]
    }
   ],
   "source": [
    "import numpy\n",
    "\n",
    "\n",
    "top_tracks = sp.current_user_top_tracks(limit=10)\n",
    "\n",
    "track_ids = [track['id'] for track in top_tracks['items']]\n",
    "\n",
    "audio_features = sp.audio_features(track_ids)\n",
    "\n",
    "energy = np.mean([f['energy'] for f in audio_features])\n",
    "danceability = np.mean([f['danceability'] for f in audio_features])\n",
    "tempo = np.mean([f['tempo'] for f in audio_features])\n",
    "valence = np.mean([f['valence'] for f in audio_features])\n",
    "acousticness = np.mean([f['acousticness'] for f in audio_features])\n",
    "\n",
    "\n",
    "print(\"Average Audio Features of Top Tracks:\")\n",
    "print(f\"Energy: {energy}\")\n",
    "print(f\"Danceability: {danceability}\")\n",
    "print(f\"Tempo: {tempo}\")\n",
    "print(f\"Valence: {valence}\")\n",
    "print(f\"Acousticness: {acousticness}\")\n",
    "\n",
    "seed_tracks = track_ids[:5] \n",
    "recommendations = sp.recommendations(\n",
    "    seed_tracks=seed_tracks, \n",
    "    limit=10,\n",
    "    target_energy=energy,\n",
    "    target_danceability=danceability,\n",
    "    target_tempo=tempo,\n",
    "    target_valence=valence,\n",
    "    target_acousticness=acousticness\n",
    ")\n",
    "\n",
    "print(\"\\nRecommended Tracks:\")\n",
    "for track in recommendations['tracks']:\n",
    "    print(f\"{track['name']} by {track['artists'][0]['name']}\")"
   ]
  },
  {
   "cell_type": "code",
   "execution_count": null,
   "id": "aa80e46e-fc1b-4ccb-8826-a1492a8e331c",
   "metadata": {},
   "outputs": [],
   "source": []
  }
 ],
 "metadata": {
  "kernelspec": {
   "display_name": "Python 3 (ipykernel)",
   "language": "python",
   "name": "python3"
  },
  "language_info": {
   "codemirror_mode": {
    "name": "ipython",
    "version": 3
   },
   "file_extension": ".py",
   "mimetype": "text/x-python",
   "name": "python",
   "nbconvert_exporter": "python",
   "pygments_lexer": "ipython3",
   "version": "3.12.4"
  }
 },
 "nbformat": 4,
 "nbformat_minor": 5
}
